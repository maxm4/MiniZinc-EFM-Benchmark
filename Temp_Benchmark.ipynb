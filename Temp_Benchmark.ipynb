{
 "cells": [
  {
   "cell_type": "code",
   "execution_count": 1,
   "id": "cd7e0338",
   "metadata": {},
   "outputs": [],
   "source": [
    "import matplotlib.pyplot as plt"
   ]
  },
  {
   "cell_type": "code",
   "execution_count": 2,
   "id": "4cbf56a2",
   "metadata": {},
   "outputs": [],
   "source": [
    "with open('result_file.txt') as f:\n",
    "    res_sat = eval(f.read())"
   ]
  },
  {
   "cell_type": "code",
   "execution_count": 3,
   "id": "2fbe5e25",
   "metadata": {},
   "outputs": [],
   "source": [
    "import pandas"
   ]
  },
  {
   "cell_type": "code",
   "execution_count": 4,
   "id": "c4ad98ad",
   "metadata": {},
   "outputs": [
    {
     "data": {
      "text/html": [
       "<div>\n",
       "<style scoped>\n",
       "    .dataframe tbody tr th:only-of-type {\n",
       "        vertical-align: middle;\n",
       "    }\n",
       "\n",
       "    .dataframe tbody tr th {\n",
       "        vertical-align: top;\n",
       "    }\n",
       "\n",
       "    .dataframe thead th {\n",
       "        text-align: right;\n",
       "    }\n",
       "</style>\n",
       "<table border=\"1\" class=\"dataframe\">\n",
       "  <thead>\n",
       "    <tr style=\"text-align: right;\">\n",
       "      <th></th>\n",
       "      <th>chuffed_int</th>\n",
       "      <th>coin-bc_int</th>\n",
       "      <th>cplex_float</th>\n",
       "      <th>cplex_int</th>\n",
       "      <th>gecode_int</th>\n",
       "      <th>gist_int</th>\n",
       "      <th>gurobi_float</th>\n",
       "      <th>gurobi_int</th>\n",
       "      <th>highs_int</th>\n",
       "      <th>sat_int</th>\n",
       "      <th>scip_float</th>\n",
       "      <th>scip_int</th>\n",
       "    </tr>\n",
       "  </thead>\n",
       "  <tbody>\n",
       "    <tr>\n",
       "      <th>nb</th>\n",
       "      <td>80.000</td>\n",
       "      <td>80.000</td>\n",
       "      <td>3.000</td>\n",
       "      <td>80.000</td>\n",
       "      <td>80.000</td>\n",
       "      <td>80.000</td>\n",
       "      <td>65.000</td>\n",
       "      <td>80.000</td>\n",
       "      <td>NaN</td>\n",
       "      <td>80.000</td>\n",
       "      <td>80.000</td>\n",
       "      <td>80.000</td>\n",
       "    </tr>\n",
       "    <tr>\n",
       "      <th>time</th>\n",
       "      <td>203.386</td>\n",
       "      <td>91.901</td>\n",
       "      <td>1.153</td>\n",
       "      <td>28.059</td>\n",
       "      <td>208.842</td>\n",
       "      <td>215.051</td>\n",
       "      <td>23.196</td>\n",
       "      <td>33.533</td>\n",
       "      <td>NaN</td>\n",
       "      <td>27.441</td>\n",
       "      <td>45.079</td>\n",
       "      <td>52.451</td>\n",
       "    </tr>\n",
       "  </tbody>\n",
       "</table>\n",
       "</div>"
      ],
      "text/plain": [
       "      chuffed_int  coin-bc_int  cplex_float  cplex_int  gecode_int  gist_int  \\\n",
       "nb         80.000       80.000        3.000     80.000      80.000    80.000   \n",
       "time      203.386       91.901        1.153     28.059     208.842   215.051   \n",
       "\n",
       "      gurobi_float  gurobi_int  highs_int  sat_int  scip_float  scip_int  \n",
       "nb          65.000      80.000        NaN   80.000      80.000    80.000  \n",
       "time        23.196      33.533        NaN   27.441      45.079    52.451  "
      ]
     },
     "execution_count": 4,
     "metadata": {},
     "output_type": "execute_result"
    }
   ],
   "source": [
    "df_sat = pandas.DataFrame(res_sat)\n",
    "df_sat"
   ]
  },
  {
   "cell_type": "code",
   "execution_count": 5,
   "id": "01ebdd22",
   "metadata": {},
   "outputs": [
    {
     "data": {
      "text/html": [
       "<div>\n",
       "<style scoped>\n",
       "    .dataframe tbody tr th:only-of-type {\n",
       "        vertical-align: middle;\n",
       "    }\n",
       "\n",
       "    .dataframe tbody tr th {\n",
       "        vertical-align: top;\n",
       "    }\n",
       "\n",
       "    .dataframe thead tr th {\n",
       "        text-align: left;\n",
       "    }\n",
       "</style>\n",
       "<table border=\"1\" class=\"dataframe\">\n",
       "  <thead>\n",
       "    <tr>\n",
       "      <th></th>\n",
       "      <th>chuffed</th>\n",
       "      <th>coin-bc</th>\n",
       "      <th colspan=\"2\" halign=\"left\">cplex</th>\n",
       "      <th>gecode</th>\n",
       "      <th>gist</th>\n",
       "      <th colspan=\"2\" halign=\"left\">gurobi</th>\n",
       "      <th>highs</th>\n",
       "      <th>sat</th>\n",
       "      <th colspan=\"2\" halign=\"left\">scip</th>\n",
       "    </tr>\n",
       "    <tr>\n",
       "      <th></th>\n",
       "      <th>int</th>\n",
       "      <th>int</th>\n",
       "      <th>int</th>\n",
       "      <th>float</th>\n",
       "      <th>int</th>\n",
       "      <th>int</th>\n",
       "      <th>int</th>\n",
       "      <th>float</th>\n",
       "      <th>int</th>\n",
       "      <th>int</th>\n",
       "      <th>int</th>\n",
       "      <th>float</th>\n",
       "    </tr>\n",
       "  </thead>\n",
       "  <tbody>\n",
       "    <tr>\n",
       "      <th>nb</th>\n",
       "      <td>80.000</td>\n",
       "      <td>80.000</td>\n",
       "      <td>80.000</td>\n",
       "      <td>3.000</td>\n",
       "      <td>80.000</td>\n",
       "      <td>80.000</td>\n",
       "      <td>80.000</td>\n",
       "      <td>65.000</td>\n",
       "      <td>NaN</td>\n",
       "      <td>80.000</td>\n",
       "      <td>80.000</td>\n",
       "      <td>80.000</td>\n",
       "    </tr>\n",
       "    <tr>\n",
       "      <th>time</th>\n",
       "      <td>203.386</td>\n",
       "      <td>91.901</td>\n",
       "      <td>28.059</td>\n",
       "      <td>1.153</td>\n",
       "      <td>208.842</td>\n",
       "      <td>215.051</td>\n",
       "      <td>33.533</td>\n",
       "      <td>23.196</td>\n",
       "      <td>NaN</td>\n",
       "      <td>27.441</td>\n",
       "      <td>52.451</td>\n",
       "      <td>45.079</td>\n",
       "    </tr>\n",
       "  </tbody>\n",
       "</table>\n",
       "</div>"
      ],
      "text/plain": [
       "      chuffed coin-bc   cplex          gecode     gist  gurobi         highs  \\\n",
       "          int     int     int  float      int      int     int   float   int   \n",
       "nb     80.000  80.000  80.000  3.000   80.000   80.000  80.000  65.000   NaN   \n",
       "time  203.386  91.901  28.059  1.153  208.842  215.051  33.533  23.196   NaN   \n",
       "\n",
       "         sat    scip          \n",
       "         int     int   float  \n",
       "nb    80.000  80.000  80.000  \n",
       "time  27.441  52.451  45.079  "
      ]
     },
     "execution_count": 5,
     "metadata": {},
     "output_type": "execute_result"
    }
   ],
   "source": [
    "df_sat_mi = df_sat.copy()\n",
    "df_sat_mi.columns = pandas.MultiIndex.from_tuples([tuple(x.split('_')) for x in df_sat.columns])\n",
    "df_sat_mi = df_sat_mi.sort_index(axis=1,level=[0,1],ascending=[True,False])\n",
    "df_sat_mi"
   ]
  },
  {
   "cell_type": "code",
   "execution_count": 12,
   "id": "3288f206",
   "metadata": {},
   "outputs": [],
   "source": [
    "df_sat_mi[('gurobi', 'float')].loc['time'] = 0"
   ]
  },
  {
   "cell_type": "code",
   "execution_count": 13,
   "id": "3f34c514",
   "metadata": {},
   "outputs": [
    {
     "data": {
      "text/plain": [
       "<AxesSubplot:>"
      ]
     },
     "execution_count": 13,
     "metadata": {},
     "output_type": "execute_result"
    },
    {
     "data": {
      "image/png": "[encoded data removed]",
      "text/plain": [
       "<Figure size 640x480 with 1 Axes>"
      ]
     },
     "metadata": {},
     "output_type": "display_data"
    }
   ],
   "source": [
    "dfplot = df_sat_mi.loc['time'].unstack().plot(kind='bar')\n",
    "dfplot"
   ]
  },
  {
   "cell_type": "code",
   "execution_count": null,
   "id": "ffc310bf",
   "metadata": {},
   "outputs": [],
   "source": []
  },
  {
   "cell_type": "code",
   "execution_count": null,
   "id": "2c395ad7",
   "metadata": {},
   "outputs": [],
   "source": []
  },
  {
   "cell_type": "code",
   "execution_count": null,
   "id": "b661c28b",
   "metadata": {},
   "outputs": [],
   "source": []
  },
  {
   "cell_type": "code",
   "execution_count": 85,
   "id": "d7b1b66b",
   "metadata": {},
   "outputs": [
    {
     "data": {
      "text/html": [
       "<div>\n",
       "<style scoped>\n",
       "    .dataframe tbody tr th:only-of-type {\n",
       "        vertical-align: middle;\n",
       "    }\n",
       "\n",
       "    .dataframe tbody tr th {\n",
       "        vertical-align: top;\n",
       "    }\n",
       "\n",
       "    .dataframe thead tr th {\n",
       "        text-align: left;\n",
       "    }\n",
       "</style>\n",
       "<table border=\"1\" class=\"dataframe\">\n",
       "  <thead>\n",
       "    <tr>\n",
       "      <th></th>\n",
       "      <th colspan=\"2\" halign=\"left\">chuffed</th>\n",
       "      <th colspan=\"2\" halign=\"left\">coin-bc</th>\n",
       "      <th colspan=\"4\" halign=\"left\">cplex</th>\n",
       "      <th colspan=\"2\" halign=\"left\">gecode</th>\n",
       "      <th>...</th>\n",
       "      <th colspan=\"2\" halign=\"left\">highs</th>\n",
       "      <th colspan=\"2\" halign=\"left\">sat</th>\n",
       "      <th colspan=\"4\" halign=\"left\">scip</th>\n",
       "      <th colspan=\"2\" halign=\"left\">xpress</th>\n",
       "    </tr>\n",
       "    <tr>\n",
       "      <th></th>\n",
       "      <th>int_sat</th>\n",
       "      <th>int_min</th>\n",
       "      <th>int_sat</th>\n",
       "      <th>int_min</th>\n",
       "      <th>int_sat</th>\n",
       "      <th>int_min</th>\n",
       "      <th>float_sat</th>\n",
       "      <th>float_min</th>\n",
       "      <th>int_sat</th>\n",
       "      <th>int_min</th>\n",
       "      <th>...</th>\n",
       "      <th>int_sat</th>\n",
       "      <th>int_min</th>\n",
       "      <th>int_sat</th>\n",
       "      <th>int_min</th>\n",
       "      <th>int_sat</th>\n",
       "      <th>int_min</th>\n",
       "      <th>float_sat</th>\n",
       "      <th>float_min</th>\n",
       "      <th>int_sat</th>\n",
       "      <th>int_min</th>\n",
       "    </tr>\n",
       "  </thead>\n",
       "  <tbody>\n",
       "    <tr>\n",
       "      <th>nb</th>\n",
       "      <td>4.000</td>\n",
       "      <td>4.000</td>\n",
       "      <td>5.000</td>\n",
       "      <td>4.000</td>\n",
       "      <td>5.000</td>\n",
       "      <td>4.000</td>\n",
       "      <td>47.000</td>\n",
       "      <td>6.000</td>\n",
       "      <td>4.000</td>\n",
       "      <td>4.000</td>\n",
       "      <td>...</td>\n",
       "      <td>4.000</td>\n",
       "      <td>NaN</td>\n",
       "      <td>0.0</td>\n",
       "      <td>4.000</td>\n",
       "      <td>7.000</td>\n",
       "      <td>4.000</td>\n",
       "      <td>5.000</td>\n",
       "      <td>6.000</td>\n",
       "      <td>NaN</td>\n",
       "      <td>NaN</td>\n",
       "    </tr>\n",
       "    <tr>\n",
       "      <th>time</th>\n",
       "      <td>1.254</td>\n",
       "      <td>1.018</td>\n",
       "      <td>1.894</td>\n",
       "      <td>1.255</td>\n",
       "      <td>1.897</td>\n",
       "      <td>1.285</td>\n",
       "      <td>18.362</td>\n",
       "      <td>2.088</td>\n",
       "      <td>1.385</td>\n",
       "      <td>1.061</td>\n",
       "      <td>...</td>\n",
       "      <td>1.699</td>\n",
       "      <td>NaN</td>\n",
       "      <td>NaN</td>\n",
       "      <td>1.124</td>\n",
       "      <td>3.208</td>\n",
       "      <td>1.712</td>\n",
       "      <td>2.631</td>\n",
       "      <td>2.458</td>\n",
       "      <td>NaN</td>\n",
       "      <td>NaN</td>\n",
       "    </tr>\n",
       "  </tbody>\n",
       "</table>\n",
       "<p>2 rows × 26 columns</p>\n",
       "</div>"
      ],
      "text/plain": [
       "     chuffed         coin-bc           cplex                              \\\n",
       "     int_sat int_min int_sat int_min int_sat int_min float_sat float_min   \n",
       "nb     4.000   4.000   5.000   4.000   5.000   4.000    47.000     6.000   \n",
       "time   1.254   1.018   1.894   1.255   1.897   1.285    18.362     2.088   \n",
       "\n",
       "      gecode          ...   highs             sat            scip          \\\n",
       "     int_sat int_min  ... int_sat int_min int_sat int_min int_sat int_min   \n",
       "nb     4.000   4.000  ...   4.000     NaN     0.0   4.000   7.000   4.000   \n",
       "time   1.385   1.061  ...   1.699     NaN     NaN   1.124   3.208   1.712   \n",
       "\n",
       "                          xpress          \n",
       "     float_sat float_min int_sat int_min  \n",
       "nb       5.000     6.000     NaN     NaN  \n",
       "time     2.631     2.458     NaN     NaN  \n",
       "\n",
       "[2 rows x 26 columns]"
      ]
     },
     "execution_count": 85,
     "metadata": {},
     "output_type": "execute_result"
    }
   ],
   "source": [
    "df_sat_nu = df_sat.copy()\n",
    "df_min_nu = df_min.copy()\n",
    "df_min_nu.columns = pandas.MultiIndex.from_tuples(list(map(lambda x: (x[0], x[1] + '_min'), (x.split('_') for x in df_min.columns))))\n",
    "df_sat_nu.columns = pandas.MultiIndex.from_tuples(list(map(lambda x: (x[0], x[1] + '_sat'), (x.split('_') for x in df_sat.columns))))\n",
    "df_join_mi = df_sat_nu.join(df_min_nu)\n",
    "df_join_mi = df_join_mi.sort_index(axis=1,level=[0,1],ascending=[True,False])\n",
    "df_join_mi"
   ]
  },
  {
   "cell_type": "code",
   "execution_count": 99,
   "id": "2bd29132",
   "metadata": {},
   "outputs": [
    {
     "data": {
      "text/plain": [
       "<AxesSubplot:>"
      ]
     },
     "execution_count": 99,
     "metadata": {},
     "output_type": "execute_result"
    },
    {
     "data": {
      "image/png": "[encoded data removed]",
      "text/plain": [
       "<Figure size 800x480 with 1 Axes>"
      ]
     },
     "metadata": {},
     "output_type": "display_data"
    }
   ],
   "source": [
    "dfplot = df_join_mi.loc['time'].unstack()[[\"int_sat\", \"int_min\", \"float_sat\", \"float_min\"]].plot(kind='bar', figsize=(8,4.8))\n",
    "plt.ylim(top=5)\n",
    "dfplot"
   ]
  },
  {
   "cell_type": "code",
   "execution_count": 87,
   "id": "6bba6f39",
   "metadata": {},
   "outputs": [
    {
     "ename": "KeyError",
     "evalue": "\"['int_sat' 'int_min' 'float_min' 'float_sat'] not in index\"",
     "output_type": "error",
     "traceback": [
      "\u001b[0;31m---------------------------------------------------------------------------\u001b[0m",
      "\u001b[0;31mKeyError\u001b[0m                                  Traceback (most recent call last)",
      "\u001b[0;32m/tmp/ipykernel_812772/3501047608.py\u001b[0m in \u001b[0;36m<module>\u001b[0;34m\u001b[0m\n\u001b[0;32m----> 1\u001b[0;31m \u001b[0mdf_join_mi\u001b[0m\u001b[0;34m[\u001b[0m\u001b[0;34m[\u001b[0m\u001b[0;34m\"int_sat\"\u001b[0m\u001b[0;34m,\u001b[0m \u001b[0;34m\"int_min\"\u001b[0m\u001b[0;34m,\u001b[0m \u001b[0;34m\"float_min\"\u001b[0m\u001b[0;34m,\u001b[0m \u001b[0;34m\"float_sat\"\u001b[0m\u001b[0;34m]\u001b[0m\u001b[0;34m]\u001b[0m\u001b[0;34m\u001b[0m\u001b[0;34m\u001b[0m\u001b[0m\n\u001b[0m",
      "\u001b[0;32m~/anaconda3/lib/python3.9/site-packages/pandas/core/frame.py\u001b[0m in \u001b[0;36m__getitem__\u001b[0;34m(self, key)\u001b[0m\n\u001b[1;32m   3509\u001b[0m             \u001b[0;32mif\u001b[0m \u001b[0mis_iterator\u001b[0m\u001b[0;34m(\u001b[0m\u001b[0mkey\u001b[0m\u001b[0;34m)\u001b[0m\u001b[0;34m:\u001b[0m\u001b[0;34m\u001b[0m\u001b[0;34m\u001b[0m\u001b[0m\n\u001b[1;32m   3510\u001b[0m                 \u001b[0mkey\u001b[0m \u001b[0;34m=\u001b[0m \u001b[0mlist\u001b[0m\u001b[0;34m(\u001b[0m\u001b[0mkey\u001b[0m\u001b[0;34m)\u001b[0m\u001b[0;34m\u001b[0m\u001b[0;34m\u001b[0m\u001b[0m\n\u001b[0;32m-> 3511\u001b[0;31m             \u001b[0mindexer\u001b[0m \u001b[0;34m=\u001b[0m \u001b[0mself\u001b[0m\u001b[0;34m.\u001b[0m\u001b[0mcolumns\u001b[0m\u001b[0;34m.\u001b[0m\u001b[0m_get_indexer_strict\u001b[0m\u001b[0;34m(\u001b[0m\u001b[0mkey\u001b[0m\u001b[0;34m,\u001b[0m \u001b[0;34m\"columns\"\u001b[0m\u001b[0;34m)\u001b[0m\u001b[0;34m[\u001b[0m\u001b[0;36m1\u001b[0m\u001b[0;34m]\u001b[0m\u001b[0;34m\u001b[0m\u001b[0;34m\u001b[0m\u001b[0m\n\u001b[0m\u001b[1;32m   3512\u001b[0m \u001b[0;34m\u001b[0m\u001b[0m\n\u001b[1;32m   3513\u001b[0m         \u001b[0;31m# take() does not accept boolean indexers\u001b[0m\u001b[0;34m\u001b[0m\u001b[0;34m\u001b[0m\u001b[0m\n",
      "\u001b[0;32m~/anaconda3/lib/python3.9/site-packages/pandas/core/indexes/multi.py\u001b[0m in \u001b[0;36m_get_indexer_strict\u001b[0;34m(self, key, axis_name)\u001b[0m\n\u001b[1;32m   2585\u001b[0m             \u001b[0mindexer\u001b[0m \u001b[0;34m=\u001b[0m \u001b[0mself\u001b[0m\u001b[0;34m.\u001b[0m\u001b[0m_get_indexer_level_0\u001b[0m\u001b[0;34m(\u001b[0m\u001b[0mkeyarr\u001b[0m\u001b[0;34m)\u001b[0m\u001b[0;34m\u001b[0m\u001b[0;34m\u001b[0m\u001b[0m\n\u001b[1;32m   2586\u001b[0m \u001b[0;34m\u001b[0m\u001b[0m\n\u001b[0;32m-> 2587\u001b[0;31m             \u001b[0mself\u001b[0m\u001b[0;34m.\u001b[0m\u001b[0m_raise_if_missing\u001b[0m\u001b[0;34m(\u001b[0m\u001b[0mkey\u001b[0m\u001b[0;34m,\u001b[0m \u001b[0mindexer\u001b[0m\u001b[0;34m,\u001b[0m \u001b[0maxis_name\u001b[0m\u001b[0;34m)\u001b[0m\u001b[0;34m\u001b[0m\u001b[0;34m\u001b[0m\u001b[0m\n\u001b[0m\u001b[1;32m   2588\u001b[0m             \u001b[0;32mreturn\u001b[0m \u001b[0mself\u001b[0m\u001b[0;34m[\u001b[0m\u001b[0mindexer\u001b[0m\u001b[0;34m]\u001b[0m\u001b[0;34m,\u001b[0m \u001b[0mindexer\u001b[0m\u001b[0;34m\u001b[0m\u001b[0;34m\u001b[0m\u001b[0m\n\u001b[1;32m   2589\u001b[0m \u001b[0;34m\u001b[0m\u001b[0m\n",
      "\u001b[0;32m~/anaconda3/lib/python3.9/site-packages/pandas/core/indexes/multi.py\u001b[0m in \u001b[0;36m_raise_if_missing\u001b[0;34m(self, key, indexer, axis_name)\u001b[0m\n\u001b[1;32m   2603\u001b[0m                 \u001b[0mcmask\u001b[0m \u001b[0;34m=\u001b[0m \u001b[0mcheck\u001b[0m \u001b[0;34m==\u001b[0m \u001b[0;34m-\u001b[0m\u001b[0;36m1\u001b[0m\u001b[0;34m\u001b[0m\u001b[0;34m\u001b[0m\u001b[0m\n\u001b[1;32m   2604\u001b[0m                 \u001b[0;32mif\u001b[0m \u001b[0mcmask\u001b[0m\u001b[0;34m.\u001b[0m\u001b[0many\u001b[0m\u001b[0;34m(\u001b[0m\u001b[0;34m)\u001b[0m\u001b[0;34m:\u001b[0m\u001b[0;34m\u001b[0m\u001b[0;34m\u001b[0m\u001b[0m\n\u001b[0;32m-> 2605\u001b[0;31m                     \u001b[0;32mraise\u001b[0m \u001b[0mKeyError\u001b[0m\u001b[0;34m(\u001b[0m\u001b[0;34mf\"{keyarr[cmask]} not in index\"\u001b[0m\u001b[0;34m)\u001b[0m\u001b[0;34m\u001b[0m\u001b[0;34m\u001b[0m\u001b[0m\n\u001b[0m\u001b[1;32m   2606\u001b[0m                 \u001b[0;31m# We get here when levels still contain values which are not\u001b[0m\u001b[0;34m\u001b[0m\u001b[0;34m\u001b[0m\u001b[0m\n\u001b[1;32m   2607\u001b[0m                 \u001b[0;31m# actually in Index anymore\u001b[0m\u001b[0;34m\u001b[0m\u001b[0;34m\u001b[0m\u001b[0m\n",
      "\u001b[0;31mKeyError\u001b[0m: \"['int_sat' 'int_min' 'float_min' 'float_sat'] not in index\""
     ]
    }
   ],
   "source": [
    "df_join_mi[[\"int_sat\", \"int_min\", \"float_min\", \"float_sat\"]]"
   ]
  },
  {
   "cell_type": "code",
   "execution_count": null,
   "id": "6e433782",
   "metadata": {},
   "outputs": [],
   "source": []
  }
 ],
 "metadata": {
  "kernelspec": {
   "display_name": "Python 3 (ipykernel)",
   "language": "python",
   "name": "python3"
  },
  "language_info": {
   "codemirror_mode": {
    "name": "ipython",
    "version": 3
   },
   "file_extension": ".py",
   "mimetype": "text/x-python",
   "name": "python",
   "nbconvert_exporter": "python",
   "pygments_lexer": "ipython3",
   "version": "3.9.13"
  }
 },
 "nbformat": 4,
 "nbformat_minor": 5
}
