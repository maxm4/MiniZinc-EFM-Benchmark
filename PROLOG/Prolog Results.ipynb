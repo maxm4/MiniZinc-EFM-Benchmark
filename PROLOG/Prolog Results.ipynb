{
 "cells": [
  {
   "cell_type": "code",
   "execution_count": 2,
   "id": "d3910d11",
   "metadata": {},
   "outputs": [],
   "source": [
    "import matplotlib"
   ]
  },
  {
   "cell_type": "code",
   "execution_count": 3,
   "id": "4011fa4e",
   "metadata": {},
   "outputs": [],
   "source": [
    "import matplotlib.pyplot as plt"
   ]
  },
  {
   "cell_type": "code",
   "execution_count": 4,
   "id": "0673e580",
   "metadata": {},
   "outputs": [],
   "source": [
    "import numpy as np"
   ]
  },
  {
   "cell_type": "code",
   "execution_count": 5,
   "id": "96c504fa",
   "metadata": {},
   "outputs": [],
   "source": [
    "import glob"
   ]
  },
  {
   "cell_type": "code",
   "execution_count": 6,
   "id": "853458de",
   "metadata": {},
   "outputs": [],
   "source": [
    "import re"
   ]
  },
  {
   "cell_type": "code",
   "execution_count": 7,
   "id": "5ae6b2d5",
   "metadata": {},
   "outputs": [],
   "source": [
    "def get_content(file):\n",
    "    f = open(file)\n",
    "    content = f.read()\n",
    "    f.close()\n",
    "    return content"
   ]
  },
  {
   "cell_type": "code",
   "execution_count": 8,
   "id": "e1a96246",
   "metadata": {},
   "outputs": [
    {
     "name": "stdout",
     "output_type": "stream",
     "text": [
      "% 2,177,523,526 inferences, 156.735 CPU in 156.746 seconds (100% CPU, 13893048 Lips)\n",
      "% 2,177,523,526 inferences, 162.176 CPU in 162.173 seconds (100% CPU, 13426875 Lips)\n",
      "% 2,177,523,526 inferences, 173.793 CPU in 173.811 seconds (100% CPU, 12529383 Lips)\n",
      "% 2,177,523,526 inferences, 199.751 CPU in 199.815 seconds (100% CPU, 10901201 Lips)\n",
      "% 2,177,523,526 inferences, 167.203 CPU in 167.212 seconds (100% CPU, 13023225 Lips)\n",
      "% 2,177,523,526 inferences, 167.925 CPU in 167.926 seconds (100% CPU, 12967200 Lips)\n",
      "% 2,177,523,526 inferences, 166.457 CPU in 166.485 seconds (100% CPU, 13081583 Lips)\n",
      "% 2,177,523,526 inferences, 199.614 CPU in 199.646 seconds (100% CPU, 10908669 Lips)\n",
      "% 2,177,523,526 inferences, 174.287 CPU in 174.306 seconds (100% CPU, 12493881 Lips)\n",
      "% 2,177,523,526 inferences, 189.681 CPU in 189.762 seconds (100% CPU, 11479920 Lips)\n"
     ]
    }
   ],
   "source": [
    "sat = []\n",
    "for file in glob.glob('sat/*sat*.txt'):\n",
    "    lastline = get_content(file).split('\\n')[-2] + get_content(file).split('\\n')[-1]\n",
    "    print(lastline)\n",
    "    secs = float(re.findall(r'in .* seconds', lastline)[0][3:-8])\n",
    "    sat.append(secs)"
   ]
  },
  {
   "cell_type": "code",
   "execution_count": 9,
   "id": "1fb676ad",
   "metadata": {},
   "outputs": [
    {
     "data": {
      "text/plain": [
       "[156.746,\n",
       " 162.173,\n",
       " 173.811,\n",
       " 199.815,\n",
       " 167.212,\n",
       " 167.926,\n",
       " 166.485,\n",
       " 199.646,\n",
       " 174.306,\n",
       " 189.762]"
      ]
     },
     "execution_count": 9,
     "metadata": {},
     "output_type": "execute_result"
    }
   ],
   "source": [
    "sat"
   ]
  },
  {
   "cell_type": "code",
   "execution_count": 10,
   "id": "6645b01b",
   "metadata": {},
   "outputs": [
    {
     "name": "stdout",
     "output_type": "stream",
     "text": [
      "% 2,122,076,658 inferences, 243.532 CPU in 243.536 seconds (100% CPU, 8713761 Lips)\n",
      "% 2,122,076,658 inferences, 234.975 CPU in 234.980 seconds (100% CPU, 9031072 Lips)\n",
      "% 2,122,076,658 inferences, 274.100 CPU in 274.106 seconds (100% CPU, 7741973 Lips)\n",
      "% 2,122,076,658 inferences, 243.521 CPU in 243.545 seconds (100% CPU, 8714150 Lips)\n",
      "% 2,122,076,658 inferences, 301.267 CPU in 301.349 seconds (100% CPU, 7043839 Lips)\n",
      "% 2,122,076,658 inferences, 221.960 CPU in 221.977 seconds (100% CPU, 9560613 Lips)\n",
      "% 2,122,076,658 inferences, 232.146 CPU in 232.164 seconds (100% CPU, 9141134 Lips)\n",
      "% 2,122,076,658 inferences, 232.528 CPU in 232.528 seconds (100% CPU, 9126099 Lips)\n",
      "% 2,122,076,658 inferences, 244.149 CPU in 244.166 seconds (100% CPU, 8691714 Lips)\n"
     ]
    }
   ],
   "source": [
    "rat = []\n",
    "for file in glob.glob('rat/*rat*.txt'):\n",
    "    lastline = get_content(file).split('\\n')[-2] + get_content(file).split('\\n')[-1]\n",
    "    print(lastline)\n",
    "    secs = float(re.findall(r'in .* seconds', lastline)[0][3:-8])\n",
    "    rat.append(secs)"
   ]
  },
  {
   "cell_type": "code",
   "execution_count": 11,
   "id": "6b10a742",
   "metadata": {},
   "outputs": [
    {
     "data": {
      "text/plain": [
       "[243.536,\n",
       " 234.98,\n",
       " 274.106,\n",
       " 243.545,\n",
       " 301.349,\n",
       " 221.977,\n",
       " 232.164,\n",
       " 232.528,\n",
       " 244.166]"
      ]
     },
     "execution_count": 11,
     "metadata": {},
     "output_type": "execute_result"
    }
   ],
   "source": [
    "rat"
   ]
  },
  {
   "cell_type": "code",
   "execution_count": 12,
   "id": "46e763e6",
   "metadata": {},
   "outputs": [
    {
     "name": "stdout",
     "output_type": "stream",
     "text": [
      "min_sat/output_min_53.txt % 9,174,217,755 inferences, 727.163 CPU in 727.204 seconds (100% CPU, 12616445 Lips)\n",
      "min_sat/output_min_51.txt % 9,174,217,755 inferences, 738.461 CPU in 738.531 seconds (100% CPU, 12423436 Lips)\n",
      "min_sat/output_min_52.txt % 9,174,217,755 inferences, 727.627 CPU in 727.664 seconds (100% CPU, 12608411 Lips)\n",
      "min_sat/output_min_55.txt % 9,172,324,140 inferences, 726.893 CPU in 726.933 seconds (100% CPU, 12618528 Lips)\n",
      "min_sat/output_min_54.txt % 9,172,324,140 inferences, 730.781 CPU in 730.831 seconds (100% CPU, 12551399 Lips)\n"
     ]
    }
   ],
   "source": [
    "minn = []\n",
    "for file in glob.glob('min_sat/*_min*.txt'):\n",
    "    lastline = get_content(file).split('\\n')[-2] + get_content(file).split('\\n')[-1]\n",
    "    print(file, lastline)\n",
    "    try:\n",
    "        secs = float(re.findall(r'in .* seconds', lastline)[0][3:-8])\n",
    "    except IndexError:\n",
    "        continue\n",
    "    minn.append(secs)"
   ]
  },
  {
   "cell_type": "code",
   "execution_count": 13,
   "id": "4bf5bcb2",
   "metadata": {},
   "outputs": [
    {
     "data": {
      "text/plain": [
       "[727.204, 738.531, 727.664, 726.933, 730.831]"
      ]
     },
     "execution_count": 13,
     "metadata": {},
     "output_type": "execute_result"
    }
   ],
   "source": [
    "minn"
   ]
  },
  {
   "cell_type": "code",
   "execution_count": 14,
   "id": "db784dfd",
   "metadata": {},
   "outputs": [
    {
     "name": "stdout",
     "output_type": "stream",
     "text": [
      "min_rat/output_rmin_51.txt % 8,941,296,507 inferences, 1001.909 CPU in 1001.964 seconds (100% CPU, 8924262 Lips)\n",
      "min_rat/output_rmin_55.txt % 8,939,402,892 inferences, 1162.409 CPU in 1162.668 seconds (100% CPU, 7690411 Lips)\n",
      "min_rat/output_rmin_52.txt % 8,941,296,507 inferences, 1002.995 CPU in 1003.064 seconds (100% CPU, 8914594 Lips)\n",
      "min_rat/output_rmin_53.txt % 8,941,296,507 inferences, 990.127 CPU in 990.127 seconds (18% CPU, 9030456 Lips)\n",
      "min_rat/output_rmin_54.txt % 8,939,402,892 inferences, 1008.668 CPU in 1008.696 seconds (100% CPU, 8862585 Lips)\n"
     ]
    }
   ],
   "source": [
    "rminn = []\n",
    "for file in glob.glob('min_rat/*_rmin*.txt'):\n",
    "    lastline = get_content(file).split('\\n')[-2] + get_content(file).split('\\n')[-1]\n",
    "    print(file, lastline)\n",
    "    try:\n",
    "        secs = float(re.findall(r'in .* seconds', lastline)[0][3:-8])\n",
    "    except IndexError:\n",
    "        continue\n",
    "    rminn.append(secs)"
   ]
  },
  {
   "cell_type": "code",
   "execution_count": 15,
   "id": "3d75b352",
   "metadata": {},
   "outputs": [
    {
     "data": {
      "text/plain": [
       "[1001.964, 1162.668, 1003.064, 990.127, 1008.696]"
      ]
     },
     "execution_count": 15,
     "metadata": {},
     "output_type": "execute_result"
    }
   ],
   "source": [
    "rminn"
   ]
  },
  {
   "cell_type": "code",
   "execution_count": null,
   "id": "882f9f3f",
   "metadata": {},
   "outputs": [],
   "source": []
  },
  {
   "cell_type": "code",
   "execution_count": 16,
   "id": "c10cb39e",
   "metadata": {},
   "outputs": [
    {
     "name": "stdout",
     "output_type": "stream",
     "text": [
      "min_rat_old/output_rmin_22.txt % 8,939,402,892 inferences, 1028.571 CPU in 1028.682 seconds (100% CPU, 8691090 Lips)\n",
      "min_rat_old/output_rmin_12.txt % 8,939,402,892 inferences, 982.234 CPU in 982.287 seconds (100% CPU, 9101093 Lips)\n",
      "min_rat_old/output_rmin_11.txt % 8,939,402,892 inferences, 1024.773 CPU in 1024.853 seconds (100% CPU, 8723298 Lips)\n",
      "min_rat_old/output_rmin_24.txt % 8,939,402,892 inferences, 1060.044 CPU in 1060.044 seconds (100% CPU, 8433051 Lips)\n",
      "min_rat_old/output_rmin_23.txt % 8,939,402,892 inferences, 1186.242 CPU in 1186.416 seconds (100% CPU, 7535899 Lips)\n",
      "min_rat_old/output_rmin_25.txt % 8,939,402,892 inferences, 1056.891 CPU in 1057.070 seconds (100% CPU, 8458205 Lips)\n"
     ]
    }
   ],
   "source": [
    "rminn_old = []\n",
    "for file in glob.glob('min_rat_old/*_rmin*.txt'):\n",
    "    lastline = get_content(file).split('\\n')[-2] + get_content(file).split('\\n')[-1]\n",
    "    print(file, lastline)\n",
    "    try:\n",
    "        secs = float(re.findall(r'in .* seconds', lastline)[0][3:-8])\n",
    "    except IndexError:\n",
    "        continue\n",
    "    rminn_old.append(secs)"
   ]
  },
  {
   "cell_type": "code",
   "execution_count": 17,
   "id": "5bfbbc3b",
   "metadata": {},
   "outputs": [
    {
     "data": {
      "text/plain": [
       "[1028.682, 982.287, 1024.853, 1060.044, 1186.416, 1057.07]"
      ]
     },
     "execution_count": 17,
     "metadata": {},
     "output_type": "execute_result"
    }
   ],
   "source": [
    "rminn_old"
   ]
  },
  {
   "cell_type": "code",
   "execution_count": 18,
   "id": "27083bec",
   "metadata": {},
   "outputs": [
    {
     "name": "stdout",
     "output_type": "stream",
     "text": [
      "min_sat_old/output_min_22.txt % 9,172,324,140 inferences, 683.181 CPU in 683.214 seconds (100% CPU, 13425899 Lips)\n",
      "min_sat_old/output_min_23.txt % 9,172,324,140 inferences, 779.865 CPU in 780.000 seconds (100% CPU, 11761418 Lips)\n",
      "min_sat_old/output_min_25.txt % 9,172,324,140 inferences, 750.617 CPU in 750.832 seconds (100% CPU, 12219710 Lips)\n",
      "min_sat_old/output_min_11.txt % 9,172,324,140 inferences, 727.214 CPU in 727.374 seconds (100% CPU, 12612962 Lips)\n",
      "min_sat_old/output_min_12.txt % 9,172,324,140 inferences, x CPU in 812.219 seconds (100% CPU, x Lips)\n",
      "min_sat_old/output_min_24.txt % 9,172,324,140 inferences, 961.099 CPU in 961.383 seconds (100% CPU, 9543579 Lips)\n"
     ]
    }
   ],
   "source": [
    "minn_old = []\n",
    "for file in glob.glob('min_sat_old/*_min*.txt'):\n",
    "    lastline = get_content(file).split('\\n')[-2] + get_content(file).split('\\n')[-1]\n",
    "    print(file, lastline)\n",
    "    try:\n",
    "        secs = float(re.findall(r'in .* seconds', lastline)[0][3:-8])\n",
    "    except IndexError:\n",
    "        continue\n",
    "    minn_old.append(secs)"
   ]
  },
  {
   "cell_type": "code",
   "execution_count": 19,
   "id": "e40c3a13",
   "metadata": {},
   "outputs": [
    {
     "data": {
      "text/plain": [
       "[683.214, 780.0, 750.832, 727.374, 812.219, 961.383]"
      ]
     },
     "execution_count": 19,
     "metadata": {},
     "output_type": "execute_result"
    }
   ],
   "source": [
    "minn_old"
   ]
  },
  {
   "cell_type": "code",
   "execution_count": 20,
   "id": "3762c49e",
   "metadata": {},
   "outputs": [
    {
     "data": {
      "text/plain": [
       "1033.3038000000001"
      ]
     },
     "execution_count": 20,
     "metadata": {},
     "output_type": "execute_result"
    }
   ],
   "source": [
    "np.mean(rminn)"
   ]
  },
  {
   "cell_type": "code",
   "execution_count": 21,
   "id": "2fccd929",
   "metadata": {},
   "outputs": [
    {
     "data": {
      "text/plain": [
       "1056.5586666666666"
      ]
     },
     "execution_count": 21,
     "metadata": {},
     "output_type": "execute_result"
    }
   ],
   "source": [
    "np.mean(rminn_old)"
   ]
  },
  {
   "cell_type": "code",
   "execution_count": 22,
   "id": "b7c61d62",
   "metadata": {},
   "outputs": [
    {
     "data": {
      "text/plain": [
       "730.2326"
      ]
     },
     "execution_count": 22,
     "metadata": {},
     "output_type": "execute_result"
    }
   ],
   "source": [
    "np.mean(minn)"
   ]
  },
  {
   "cell_type": "code",
   "execution_count": 23,
   "id": "973ff285",
   "metadata": {},
   "outputs": [
    {
     "data": {
      "text/plain": [
       "785.837"
      ]
     },
     "execution_count": 23,
     "metadata": {},
     "output_type": "execute_result"
    }
   ],
   "source": [
    "np.mean(minn_old)"
   ]
  },
  {
   "cell_type": "code",
   "execution_count": 24,
   "id": "475c3f16",
   "metadata": {},
   "outputs": [
    {
     "name": "stdout",
     "output_type": "stream",
     "text": [
      "min_int/output_min_int_7.txt % 4,816,238,296 inferences, 413.751 CPU in 413.876 seconds (100% CPU, 11640420 Lips)\n",
      "min_int/output_min_int_5.txt % 4,816,238,296 inferences, 378.047 CPU in 378.075 seconds (100% CPU, 12739775 Lips)\n",
      "min_int/output_min_int_10.txt % 4,816,238,296 inferences, 383.642 CPU in 383.674 seconds (100% CPU, 12553980 Lips)\n",
      "min_int/output_min_int_8.txt % 4,816,238,296 inferences, 409.778 CPU in 409.819 seconds (100% CPU, 11753294 Lips)\n",
      "min_int/output_min_int_9.txt % 4,816,238,296 inferences, 376.482 CPU in 376.498 seconds (100% CPU, 12792732 Lips)\n",
      "min_int/output_min_int_6.txt % 4,816,238,296 inferences, 397.794 CPU in 397.813 seconds (100% CPU, 12107358 Lips)\n"
     ]
    }
   ],
   "source": [
    "min_int = []\n",
    "for file in glob.glob('min_int/*_min_int*.txt'):\n",
    "    lastline = get_content(file).split('\\n')[-2] + get_content(file).split('\\n')[-1]\n",
    "    print(file, lastline)\n",
    "    try:\n",
    "        secs = float(re.findall(r'in .* seconds', lastline)[0][3:-8])\n",
    "    except IndexError:\n",
    "        continue\n",
    "    min_int.append(secs)"
   ]
  },
  {
   "cell_type": "code",
   "execution_count": 25,
   "id": "21189af9",
   "metadata": {},
   "outputs": [
    {
     "name": "stdout",
     "output_type": "stream",
     "text": [
      "int/output_int_5.txt % 4,804,056,694 inferences, 435.165 CPU in 435.324 seconds (100% CPU, 11039628 Lips)\n",
      "int/output_int_2.txt % 4,804,056,694 inferences, 389.495 CPU in 389.994 seconds (100% CPU, 12334060 Lips)\n",
      "int/output_int_8.txt % 4,804,056,694 inferences, 424.215 CPU in 424.347 seconds (100% CPU, 11324577 Lips)\n",
      "int/output_int_6.txt % 4,804,056,694 inferences, 385.076 CPU in 385.110 seconds (100% CPU, 12475595 Lips)\n",
      "int/output_int_3.txt % 4,804,056,694 inferences, 421.252 CPU in 421.319 seconds (100% CPU, 11404247 Lips)\n",
      "int/output_int_9.txt % 4,804,056,694 inferences, 377.764 CPU in 377.785 seconds (100% CPU, 12717075 Lips)\n",
      "int/output_int_10.txt % 4,804,056,694 inferences, 392.550 CPU in 392.622 seconds (100% CPU, 12238087 Lips)\n",
      "int/output_int_1.txt % 4,804,056,694 inferences, 358.673 CPU in 358.780 seconds (100% CPU, 13393972 Lips)\n",
      "int/output_int_7.txt % 4,804,056,694 inferences, 396.062 CPU in 396.102 seconds (100% CPU, 12129554 Lips)\n"
     ]
    }
   ],
   "source": [
    "intt = []\n",
    "for file in glob.glob('int/*_int*.txt'):\n",
    "    lastline = get_content(file).split('\\n')[-2] + get_content(file).split('\\n')[-1]\n",
    "    print(file, lastline)\n",
    "    try:\n",
    "        secs = float(re.findall(r'in .* seconds', lastline)[0][3:-8])\n",
    "    except IndexError:\n",
    "        continue\n",
    "    intt.append(secs)"
   ]
  },
  {
   "cell_type": "code",
   "execution_count": 26,
   "id": "f3ac2135",
   "metadata": {},
   "outputs": [
    {
     "data": {
      "text/plain": [
       "[435.324, 389.994, 424.347, 385.11, 421.319, 377.785, 392.622, 358.78, 396.102]"
      ]
     },
     "execution_count": 26,
     "metadata": {},
     "output_type": "execute_result"
    }
   ],
   "source": [
    "intt"
   ]
  },
  {
   "cell_type": "code",
   "execution_count": 27,
   "id": "daaf39ec",
   "metadata": {},
   "outputs": [
    {
     "data": {
      "text/plain": [
       "[413.876, 378.075, 383.674, 409.819, 376.498, 397.813]"
      ]
     },
     "execution_count": 27,
     "metadata": {},
     "output_type": "execute_result"
    }
   ],
   "source": [
    "min_int"
   ]
  },
  {
   "cell_type": "code",
   "execution_count": 28,
   "id": "6b86dedf",
   "metadata": {},
   "outputs": [
    {
     "data": {
      "text/plain": [
       "397.9314444444444"
      ]
     },
     "execution_count": 28,
     "metadata": {},
     "output_type": "execute_result"
    }
   ],
   "source": [
    "np.mean(intt)"
   ]
  },
  {
   "cell_type": "code",
   "execution_count": 29,
   "id": "45232700",
   "metadata": {},
   "outputs": [
    {
     "data": {
      "text/plain": [
       "393.2925"
      ]
     },
     "execution_count": 29,
     "metadata": {},
     "output_type": "execute_result"
    }
   ],
   "source": [
    "np.mean(min_int)"
   ]
  },
  {
   "cell_type": "code",
   "execution_count": 39,
   "id": "f665ff8d",
   "metadata": {},
   "outputs": [
    {
     "data": {
      "text/plain": [
       "{'min_float': [727.204, 738.531, 727.664, 726.933, 730.831],\n",
       " 'sat_float': [156.746,\n",
       "  162.173,\n",
       "  173.811,\n",
       "  199.815,\n",
       "  167.212,\n",
       "  167.926,\n",
       "  166.485,\n",
       "  199.646,\n",
       "  174.306,\n",
       "  189.762],\n",
       " 'min_rational': [1001.964, 1162.668, 1003.064, 990.127, 1008.696],\n",
       " 'sat_rational': [243.536,\n",
       "  234.98,\n",
       "  274.106,\n",
       "  243.545,\n",
       "  301.349,\n",
       "  221.977,\n",
       "  232.164,\n",
       "  232.528,\n",
       "  244.166],\n",
       " 'min_int': [413.876, 378.075, 383.674, 409.819, 376.498, 397.813],\n",
       " 'sat_int': [435.324,\n",
       "  389.994,\n",
       "  424.347,\n",
       "  385.11,\n",
       "  421.319,\n",
       "  377.785,\n",
       "  392.622,\n",
       "  358.78,\n",
       "  396.102]}"
      ]
     },
     "execution_count": 39,
     "metadata": {},
     "output_type": "execute_result"
    }
   ],
   "source": [
    "dix = {\n",
    "'min_float': minn,\n",
    "'sat_float': sat,\n",
    "'min_rational': rminn,\n",
    "'sat_rational': rat,\n",
    "'min_int': min_int,\n",
    "'sat_int': intt}\n",
    "dix"
   ]
  },
  {
   "cell_type": "code",
   "execution_count": 40,
   "id": "9e798a6f",
   "metadata": {},
   "outputs": [],
   "source": [
    "import numpy"
   ]
  },
  {
   "cell_type": "code",
   "execution_count": 55,
   "id": "28a6d5f6",
   "metadata": {},
   "outputs": [
    {
     "data": {
      "image/png": "[encoded data removed]",
      "text/plain": [
       "<Figure size 750x400 with 1 Axes>"
      ]
     },
     "metadata": {},
     "output_type": "display_data"
    }
   ],
   "source": [
    "plt.figure(figsize=(7.5, 4))\n",
    "plt.bar(dix.keys(), [numpy.mean(v) for x, v in dix.items()], yerr=[numpy.std(v) for x, v in dix.items()], color=\n",
    "            ['blue', 'orange', 'teal', 'firebrick', 'green', 'red'])\n",
    "plt.ylabel('Computation time (s)')\n",
    "plt.xlabel(\"SWI-Prolog running mode\")\n",
    "plt.savefig(\"B.pdf\", bbox_inches='tight')"
   ]
  },
  {
   "cell_type": "code",
   "execution_count": 33,
   "id": "e4027869",
   "metadata": {},
   "outputs": [
    {
     "data": {
      "text/plain": [
       "{'min_float': 730.2326,\n",
       " 'sat_float': 175.7882,\n",
       " 'min_rational': 1033.3038000000001,\n",
       " 'sat_rational': 247.59455555555556,\n",
       " 'sat_int': 397.9314444444444,\n",
       " 'min_int': 393.2925}"
      ]
     },
     "execution_count": 33,
     "metadata": {},
     "output_type": "execute_result"
    }
   ],
   "source": [
    "{x: numpy.mean(v) for x, v in dix.items()}"
   ]
  },
  {
   "cell_type": "code",
   "execution_count": 34,
   "id": "a7228de6",
   "metadata": {},
   "outputs": [],
   "source": [
    "import pandas"
   ]
  },
  {
   "cell_type": "code",
   "execution_count": 35,
   "id": "f4dd5a35",
   "metadata": {},
   "outputs": [],
   "source": [
    "df_mean = pandas.Series({x: numpy.mean(v) for x, v in dix.items()})\n",
    "df_sd = pandas.Series({x: numpy.std(v) for x, v in dix.items()})"
   ]
  },
  {
   "cell_type": "code",
   "execution_count": 36,
   "id": "48213752",
   "metadata": {},
   "outputs": [
    {
     "data": {
      "text/plain": [
       "min_float        730.232600\n",
       "sat_float        175.788200\n",
       "min_rational    1033.303800\n",
       "sat_rational     247.594556\n",
       "sat_int          397.931444\n",
       "min_int          393.292500\n",
       "dtype: float64"
      ]
     },
     "execution_count": 36,
     "metadata": {},
     "output_type": "execute_result"
    }
   ],
   "source": [
    "df_mean"
   ]
  },
  {
   "cell_type": "code",
   "execution_count": 37,
   "id": "8eb1277a",
   "metadata": {},
   "outputs": [
    {
     "data": {
      "text/plain": [
       "min_float        4.379018\n",
       "sat_float       14.552488\n",
       "min_rational    64.963843\n",
       "sat_rational    23.374992\n",
       "sat_int         23.191490\n",
       "min_int         14.851395\n",
       "dtype: float64"
      ]
     },
     "execution_count": 37,
     "metadata": {},
     "output_type": "execute_result"
    }
   ],
   "source": [
    "df_sd"
   ]
  },
  {
   "cell_type": "code",
   "execution_count": 56,
   "id": "0f6f335b",
   "metadata": {},
   "outputs": [
    {
     "data": {
      "text/plain": [
       "['sans-serif']"
      ]
     },
     "execution_count": 56,
     "metadata": {},
     "output_type": "execute_result"
    }
   ],
   "source": [
    "matplotlib.rcParams['font.family']"
   ]
  },
  {
   "cell_type": "code",
   "execution_count": 57,
   "id": "0e84ba02",
   "metadata": {},
   "outputs": [],
   "source": [
    "from matplotlib.font_manager import findfont, FontProperties"
   ]
  },
  {
   "cell_type": "code",
   "execution_count": 58,
   "id": "91e10746",
   "metadata": {},
   "outputs": [
    {
     "data": {
      "text/plain": [
       "'/home/maxime/anaconda3/lib/python3.9/site-packages/matplotlib/mpl-data/fonts/ttf/DejaVuSans.ttf'"
      ]
     },
     "execution_count": 58,
     "metadata": {},
     "output_type": "execute_result"
    }
   ],
   "source": [
    "findfont(FontProperties(family=['sans-serif']))"
   ]
  },
  {
   "cell_type": "code",
   "execution_count": 61,
   "id": "74151b85",
   "metadata": {},
   "outputs": [
    {
     "data": {
      "text/plain": [
       "[730.233, 175.788, 1033.304, 247.595, 393.292, 397.931]"
      ]
     },
     "execution_count": 61,
     "metadata": {},
     "output_type": "execute_result"
    }
   ],
   "source": [
    "[round(numpy.mean(v), 3) for x, v in dix.items()]"
   ]
  },
  {
   "cell_type": "code",
   "execution_count": 64,
   "id": "d0cb0ad0",
   "metadata": {},
   "outputs": [],
   "source": [
    "import pandas"
   ]
  },
  {
   "cell_type": "code",
   "execution_count": 98,
   "id": "ba8dadaf",
   "metadata": {},
   "outputs": [],
   "source": [
    "df_mean = pandas.DataFrame({tuple(reversed(x.split('_'))): round(numpy.mean(v), 3) for x, v in dix.items()}, index=[0])\n",
    "df_sd = pandas.DataFrame({tuple(reversed(x.split('_'))): round(numpy.std(v), 3) for x, v in dix.items()}, index=[0])"
   ]
  },
  {
   "cell_type": "code",
   "execution_count": 73,
   "id": "27b0933b",
   "metadata": {},
   "outputs": [],
   "source": [
    "import pickle"
   ]
  },
  {
   "cell_type": "code",
   "execution_count": 103,
   "id": "dc214cc0",
   "metadata": {},
   "outputs": [],
   "source": [
    "with open('stack.pkl', 'rb') as f:\n",
    "    unstacked = pickle.load(f)"
   ]
  },
  {
   "cell_type": "code",
   "execution_count": 104,
   "id": "011d1a22",
   "metadata": {},
   "outputs": [
    {
     "data": {
      "text/html": [
       "<div>\n",
       "<style scoped>\n",
       "    .dataframe tbody tr th:only-of-type {\n",
       "        vertical-align: middle;\n",
       "    }\n",
       "\n",
       "    .dataframe tbody tr th {\n",
       "        vertical-align: top;\n",
       "    }\n",
       "\n",
       "    .dataframe thead th {\n",
       "        text-align: right;\n",
       "    }\n",
       "</style>\n",
       "<table border=\"1\" class=\"dataframe\">\n",
       "  <thead>\n",
       "    <tr style=\"text-align: right;\">\n",
       "      <th></th>\n",
       "      <th></th>\n",
       "      <th>(float, min)</th>\n",
       "      <th>(float, sat)</th>\n",
       "      <th>(int, min)</th>\n",
       "      <th>(int, sat)</th>\n",
       "    </tr>\n",
       "    <tr>\n",
       "      <th>name</th>\n",
       "      <th>index</th>\n",
       "      <th></th>\n",
       "      <th></th>\n",
       "      <th></th>\n",
       "      <th></th>\n",
       "    </tr>\n",
       "  </thead>\n",
       "  <tbody>\n",
       "    <tr>\n",
       "      <th rowspan=\"9\" valign=\"top\">MiniZinc</th>\n",
       "      <th>chuffed</th>\n",
       "      <td></td>\n",
       "      <td></td>\n",
       "      <td>132.234 +/- 24.92</td>\n",
       "      <td>271.716 +/- 37.96</td>\n",
       "    </tr>\n",
       "    <tr>\n",
       "      <th>coin-bc</th>\n",
       "      <td></td>\n",
       "      <td></td>\n",
       "      <td>90.587 +/- 13.57</td>\n",
       "      <td>90.56 +/- 10.63</td>\n",
       "    </tr>\n",
       "    <tr>\n",
       "      <th>cplex</th>\n",
       "      <td></td>\n",
       "      <td></td>\n",
       "      <td>31.545 +/- 4.47</td>\n",
       "      <td>69.053 +/- 7.44</td>\n",
       "    </tr>\n",
       "    <tr>\n",
       "      <th>gecode</th>\n",
       "      <td></td>\n",
       "      <td></td>\n",
       "      <td>145.49 +/- 26.08</td>\n",
       "      <td>869.19 +/- 127.59</td>\n",
       "    </tr>\n",
       "    <tr>\n",
       "      <th>gist</th>\n",
       "      <td></td>\n",
       "      <td></td>\n",
       "      <td>144.2 +/- 23.77</td>\n",
       "      <td>869.002 +/- 142.98</td>\n",
       "    </tr>\n",
       "    <tr>\n",
       "      <th>gurobi</th>\n",
       "      <td></td>\n",
       "      <td></td>\n",
       "      <td>57.746 +/- 11.65</td>\n",
       "      <td>82.486 +/- 14.95</td>\n",
       "    </tr>\n",
       "    <tr>\n",
       "      <th>highs</th>\n",
       "      <td></td>\n",
       "      <td></td>\n",
       "      <td></td>\n",
       "      <td>77.804 +/- 14.64</td>\n",
       "    </tr>\n",
       "    <tr>\n",
       "      <th>ortools</th>\n",
       "      <td></td>\n",
       "      <td></td>\n",
       "      <td>28.038 +/- 5.27</td>\n",
       "      <td></td>\n",
       "    </tr>\n",
       "    <tr>\n",
       "      <th>scip</th>\n",
       "      <td>45.939 +/- 8.26</td>\n",
       "      <td>463.36 +/- 71.53</td>\n",
       "      <td>55.259 +/- 10.47</td>\n",
       "      <td>103.94 +/- 22.25</td>\n",
       "    </tr>\n",
       "  </tbody>\n",
       "</table>\n",
       "</div>"
      ],
      "text/plain": [
       "                     (float, min)      (float, sat)         (int, min)  \\\n",
       "name     index                                                           \n",
       "MiniZinc chuffed                                     132.234 +/- 24.92   \n",
       "         coin-bc                                      90.587 +/- 13.57   \n",
       "         cplex                                         31.545 +/- 4.47   \n",
       "         gecode                                       145.49 +/- 26.08   \n",
       "         gist                                          144.2 +/- 23.77   \n",
       "         gurobi                                       57.746 +/- 11.65   \n",
       "         highs                                                           \n",
       "         ortools                                       28.038 +/- 5.27   \n",
       "         scip     45.939 +/- 8.26  463.36 +/- 71.53   55.259 +/- 10.47   \n",
       "\n",
       "                          (int, sat)  \n",
       "name     index                        \n",
       "MiniZinc chuffed   271.716 +/- 37.96  \n",
       "         coin-bc     90.56 +/- 10.63  \n",
       "         cplex       69.053 +/- 7.44  \n",
       "         gecode    869.19 +/- 127.59  \n",
       "         gist     869.002 +/- 142.98  \n",
       "         gurobi     82.486 +/- 14.95  \n",
       "         highs      77.804 +/- 14.64  \n",
       "         ortools                      \n",
       "         scip       103.94 +/- 22.25  "
      ]
     },
     "execution_count": 104,
     "metadata": {},
     "output_type": "execute_result"
    }
   ],
   "source": [
    "unstacked"
   ]
  },
  {
   "cell_type": "code",
   "execution_count": 149,
   "id": "014a1b81",
   "metadata": {},
   "outputs": [],
   "source": [
    "unstacked_new = unstacked.copy()\n",
    "unstacked_new[('rational', 'sat')] = ''\n",
    "unstacked_new[('rational', 'min')] = ''\n",
    "unstacked_new.loc[(\"SWI-Prolog\", \"\")] = unstacked_new.loc[(\"MiniZinc\", \"scip\")]\n",
    "for idx in df_mean.index:\n",
    "    for col in df_mean.columns:\n",
    "        if not pandas.isna(df_mean[col].loc[idx]):\n",
    "            data = f'{round(df_mean[col].loc[idx],3)} +/- {round(df_sd[col].loc[idx], 2)}'\n",
    "        else:\n",
    "            data = ''\n",
    "        unstacked_new[col].loc[(\"SWI-Prolog\", \"\")] = data\n",
    "unstacked_new = unstacked_new.dropna(axis=1)\n",
    "unstacked_new = unstacked_new[[('int', 'sat'),('int', 'min'), ('rational', 'sat'), ('rational', 'min'),('float', 'sat'),('float', 'min')]]"
   ]
  },
  {
   "cell_type": "code",
   "execution_count": 150,
   "id": "45132310",
   "metadata": {},
   "outputs": [
    {
     "data": {
      "text/html": [
       "<div>\n",
       "<style scoped>\n",
       "    .dataframe tbody tr th:only-of-type {\n",
       "        vertical-align: middle;\n",
       "    }\n",
       "\n",
       "    .dataframe tbody tr th {\n",
       "        vertical-align: top;\n",
       "    }\n",
       "\n",
       "    .dataframe thead th {\n",
       "        text-align: right;\n",
       "    }\n",
       "</style>\n",
       "<table border=\"1\" class=\"dataframe\">\n",
       "  <thead>\n",
       "    <tr style=\"text-align: right;\">\n",
       "      <th></th>\n",
       "      <th></th>\n",
       "      <th>(int, sat)</th>\n",
       "      <th>(int, min)</th>\n",
       "      <th>(rational, sat)</th>\n",
       "      <th>(rational, min)</th>\n",
       "      <th>(float, sat)</th>\n",
       "      <th>(float, min)</th>\n",
       "    </tr>\n",
       "    <tr>\n",
       "      <th>name</th>\n",
       "      <th>index</th>\n",
       "      <th></th>\n",
       "      <th></th>\n",
       "      <th></th>\n",
       "      <th></th>\n",
       "      <th></th>\n",
       "      <th></th>\n",
       "    </tr>\n",
       "  </thead>\n",
       "  <tbody>\n",
       "    <tr>\n",
       "      <th rowspan=\"9\" valign=\"top\">MiniZinc</th>\n",
       "      <th>chuffed</th>\n",
       "      <td>271.716 +/- 37.96</td>\n",
       "      <td>132.234 +/- 24.92</td>\n",
       "      <td></td>\n",
       "      <td></td>\n",
       "      <td></td>\n",
       "      <td></td>\n",
       "    </tr>\n",
       "    <tr>\n",
       "      <th>coin-bc</th>\n",
       "      <td>90.56 +/- 10.63</td>\n",
       "      <td>90.587 +/- 13.57</td>\n",
       "      <td></td>\n",
       "      <td></td>\n",
       "      <td></td>\n",
       "      <td></td>\n",
       "    </tr>\n",
       "    <tr>\n",
       "      <th>cplex</th>\n",
       "      <td>69.053 +/- 7.44</td>\n",
       "      <td>31.545 +/- 4.47</td>\n",
       "      <td></td>\n",
       "      <td></td>\n",
       "      <td></td>\n",
       "      <td></td>\n",
       "    </tr>\n",
       "    <tr>\n",
       "      <th>gecode</th>\n",
       "      <td>869.19 +/- 127.59</td>\n",
       "      <td>145.49 +/- 26.08</td>\n",
       "      <td></td>\n",
       "      <td></td>\n",
       "      <td></td>\n",
       "      <td></td>\n",
       "    </tr>\n",
       "    <tr>\n",
       "      <th>gist</th>\n",
       "      <td>869.002 +/- 142.98</td>\n",
       "      <td>144.2 +/- 23.77</td>\n",
       "      <td></td>\n",
       "      <td></td>\n",
       "      <td></td>\n",
       "      <td></td>\n",
       "    </tr>\n",
       "    <tr>\n",
       "      <th>gurobi</th>\n",
       "      <td>82.486 +/- 14.95</td>\n",
       "      <td>57.746 +/- 11.65</td>\n",
       "      <td></td>\n",
       "      <td></td>\n",
       "      <td></td>\n",
       "      <td></td>\n",
       "    </tr>\n",
       "    <tr>\n",
       "      <th>highs</th>\n",
       "      <td>77.804 +/- 14.64</td>\n",
       "      <td></td>\n",
       "      <td></td>\n",
       "      <td></td>\n",
       "      <td></td>\n",
       "      <td></td>\n",
       "    </tr>\n",
       "    <tr>\n",
       "      <th>ortools</th>\n",
       "      <td></td>\n",
       "      <td>28.038 +/- 5.27</td>\n",
       "      <td></td>\n",
       "      <td></td>\n",
       "      <td></td>\n",
       "      <td></td>\n",
       "    </tr>\n",
       "    <tr>\n",
       "      <th>scip</th>\n",
       "      <td>103.94 +/- 22.25</td>\n",
       "      <td>55.259 +/- 10.47</td>\n",
       "      <td></td>\n",
       "      <td></td>\n",
       "      <td>463.36 +/- 71.53</td>\n",
       "      <td>45.939 +/- 8.26</td>\n",
       "    </tr>\n",
       "    <tr>\n",
       "      <th>SWI-Prolog</th>\n",
       "      <th></th>\n",
       "      <td>397.931 +/- 23.19</td>\n",
       "      <td>393.292 +/- 14.85</td>\n",
       "      <td>247.595 +/- 23.38</td>\n",
       "      <td>1033.304 +/- 64.96</td>\n",
       "      <td>175.788 +/- 14.55</td>\n",
       "      <td>730.233 +/- 4.38</td>\n",
       "    </tr>\n",
       "  </tbody>\n",
       "</table>\n",
       "</div>"
      ],
      "text/plain": [
       "                            (int, sat)         (int, min)    (rational, sat)  \\\n",
       "name       index                                                               \n",
       "MiniZinc   chuffed   271.716 +/- 37.96  132.234 +/- 24.92                      \n",
       "           coin-bc     90.56 +/- 10.63   90.587 +/- 13.57                      \n",
       "           cplex       69.053 +/- 7.44    31.545 +/- 4.47                      \n",
       "           gecode    869.19 +/- 127.59   145.49 +/- 26.08                      \n",
       "           gist     869.002 +/- 142.98    144.2 +/- 23.77                      \n",
       "           gurobi     82.486 +/- 14.95   57.746 +/- 11.65                      \n",
       "           highs      77.804 +/- 14.64                                         \n",
       "           ortools                        28.038 +/- 5.27                      \n",
       "           scip       103.94 +/- 22.25   55.259 +/- 10.47                      \n",
       "SWI-Prolog           397.931 +/- 23.19  393.292 +/- 14.85  247.595 +/- 23.38   \n",
       "\n",
       "                       (rational, min)       (float, sat)      (float, min)  \n",
       "name       index                                                             \n",
       "MiniZinc   chuffed                                                           \n",
       "           coin-bc                                                           \n",
       "           cplex                                                             \n",
       "           gecode                                                            \n",
       "           gist                                                              \n",
       "           gurobi                                                            \n",
       "           highs                                                             \n",
       "           ortools                                                           \n",
       "           scip                          463.36 +/- 71.53   45.939 +/- 8.26  \n",
       "SWI-Prolog          1033.304 +/- 64.96  175.788 +/- 14.55  730.233 +/- 4.38  "
      ]
     },
     "execution_count": 150,
     "metadata": {},
     "output_type": "execute_result"
    }
   ],
   "source": [
    "unstacked_new"
   ]
  },
  {
   "cell_type": "code",
   "execution_count": 153,
   "id": "3afd8cfc",
   "metadata": {
    "scrolled": false
   },
   "outputs": [
    {
     "name": "stdout",
     "output_type": "stream",
     "text": [
      "\\begin{tabular}{llllllll}\n",
      "\\toprule\n",
      "           &      &          (int, sat) &         (int, min) &    (rational, sat) &     (rational, min) &       (float, sat) &      (float, min) \\\\\n",
      "name & index &                     &                    &                    &                     &                    &                   \\\\\n",
      "\\midrule\n",
      "MiniZinc & chuffed &   271.716 +/- 37.96 &  132.234 +/- 24.92 &                    &                     &                    &                   \\\\\n",
      "           & coin-bc &     90.56 +/- 10.63 &   90.587 +/- 13.57 &                    &                     &                    &                   \\\\\n",
      "           & cplex &     69.053 +/- 7.44 &    31.545 +/- 4.47 &                    &                     &                    &                   \\\\\n",
      "           & gecode &   869.19 +/- 127.59 &   145.49 +/- 26.08 &                    &                     &                    &                   \\\\\n",
      "           & gist &  869.002 +/- 142.98 &    144.2 +/- 23.77 &                    &                     &                    &                   \\\\\n",
      "           & gurobi &    82.486 +/- 14.95 &   57.746 +/- 11.65 &                    &                     &                    &                   \\\\\n",
      "           & highs &    77.804 +/- 14.64 &                    &                    &                     &                    &                   \\\\\n",
      "           & ortools &                     &    28.038 +/- 5.27 &                    &                     &                    &                   \\\\\n",
      "           & scip &    103.94 +/- 22.25 &   55.259 +/- 10.47 &                    &                     &   463.36 +/- 71.53 &   45.939 +/- 8.26 \\\\\n",
      "SWI-Prolog &      &   397.931 +/- 23.19 &  393.292 +/- 14.85 &  247.595 +/- 23.38 &  1033.304 +/- 64.96 &  175.788 +/- 14.55 &  730.233 +/- 4.38 \\\\\n",
      "\\bottomrule\n",
      "\\end{tabular}\n",
      "\n"
     ]
    },
    {
     "name": "stderr",
     "output_type": "stream",
     "text": [
      "/tmp/ipykernel_237672/3048147942.py:1: FutureWarning: In future versions `DataFrame.to_latex` is expected to utilise the base implementation of `Styler.to_latex` for formatting and rendering. The arguments signature may therefore change. It is recommended instead to use `DataFrame.style.to_latex` which also contains additional functionality.\n",
      "  print(unstacked_new.to_latex())\n"
     ]
    }
   ],
   "source": [
    "print(unstacked_new.to_latex())"
   ]
  },
  {
   "cell_type": "code",
   "execution_count": null,
   "id": "bae44b9a",
   "metadata": {},
   "outputs": [],
   "source": []
  }
 ],
 "metadata": {
  "kernelspec": {
   "display_name": "Python 3 (ipykernel)",
   "language": "python",
   "name": "python3"
  },
  "language_info": {
   "codemirror_mode": {
    "name": "ipython",
    "version": 3
   },
   "file_extension": ".py",
   "mimetype": "text/x-python",
   "name": "python",
   "nbconvert_exporter": "python",
   "pygments_lexer": "ipython3",
   "version": "3.9.13"
  }
 },
 "nbformat": 4,
 "nbformat_minor": 5
}
